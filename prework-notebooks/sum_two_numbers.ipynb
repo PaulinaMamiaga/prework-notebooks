{
 "cells": [
  {
   "cell_type": "code",
   "execution_count": 2,
   "id": "7b770572",
   "metadata": {},
   "outputs": [
    {
     "name": "stdout",
     "output_type": "stream",
     "text": [
      "The sum of 7 and 5 is: 12\n"
     ]
    }
   ],
   "source": [
    "a = 7\n",
    "b = 5\n",
    "suma = a + b\n",
    "print(\"The sum of\", a, \"and\", b, \"is:\", suma)\n"
   ]
  },
  {
   "cell_type": "code",
   "execution_count": null,
   "id": "c02e3b74",
   "metadata": {},
   "outputs": [],
   "source": [
    "\n"
   ]
  }
 ],
 "metadata": {
  "language_info": {
   "name": "python"
  }
 },
 "nbformat": 4,
 "nbformat_minor": 5
}
